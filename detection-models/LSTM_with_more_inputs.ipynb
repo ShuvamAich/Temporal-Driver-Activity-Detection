{
  "nbformat": 4,
  "nbformat_minor": 0,
  "metadata": {
    "colab": {
      "provenance": []
    },
    "kernelspec": {
      "name": "python3",
      "display_name": "Python 3"
    },
    "language_info": {
      "name": "python"
    }
  },
  "cells": [
    {
      "cell_type": "code",
      "execution_count": 13,
      "metadata": {
        "colab": {
          "base_uri": "https://localhost:8080/"
        },
        "id": "hf5tQ4wH9Sze",
        "outputId": "c94a531f-51d9-42dc-f68b-ef2f57e3cda3"
      },
      "outputs": [
        {
          "output_type": "stream",
          "name": "stdout",
          "text": [
            "Total number of arrays in /content/run1b_2018-05-29-14-02-47.kinect_color.pt: 19071\n"
          ]
        },
        {
          "output_type": "stream",
          "name": "stderr",
          "text": [
            "<ipython-input-13-c1f005d25ee7>:5: FutureWarning: You are using `torch.load` with `weights_only=False` (the current default value), which uses the default pickle module implicitly. It is possible to construct malicious pickle data which will execute arbitrary code during unpickling (See https://github.com/pytorch/pytorch/blob/main/SECURITY.md#untrusted-models for more details). In a future release, the default value for `weights_only` will be flipped to `True`. This limits the functions that could be executed during unpickling. Arbitrary objects will no longer be allowed to be loaded via this mode unless they are explicitly allowlisted by the user via `torch.serialization.add_safe_globals`. We recommend you start setting `weights_only=True` for any use case where you don't have full control of the loaded file. Please open an issue on GitHub for any issues related to this experimental feature.\n",
            "  data = torch.load(file_path)\n"
          ]
        }
      ],
      "source": [
        "import torch\n",
        "\n",
        "file_path = \"/content/run1b_2018-05-29-14-02-47.kinect_color.pt\"  # Replace with your actual file path\n",
        "data = torch.load(file_path)\n",
        "\n",
        "# Check the type of data and count arrays\n",
        "if isinstance(data, dict):\n",
        "    total_arrays = len(data)\n",
        "elif isinstance(data, list) or isinstance(data, tuple):\n",
        "    total_arrays = len(data)\n",
        "elif isinstance(data, torch.Tensor):\n",
        "    total_arrays = 1  # A single tensor counts as one array\n",
        "else:\n",
        "    total_arrays = 0  # Unknown format\n",
        "\n",
        "print(f\"Total number of arrays in {file_path}: {total_arrays}\")\n"
      ]
    },
    {
      "cell_type": "markdown",
      "source": [
        "# **Data Manipulations**"
      ],
      "metadata": {
        "id": "NGE0E6AqP_NF"
      }
    },
    {
      "cell_type": "code",
      "source": [
        "import pandas as pd\n",
        "import pickle\n",
        "\n",
        "\n",
        "with open('annotation_converter.pkl', 'rb') as f:\n",
        "    annotation_converter = pickle.load(f)\n",
        "\n",
        "\n",
        "activity_to_annotation = {activity: idx for idx, activity in enumerate(annotation_converter)}\n",
        "\n",
        "file_path = '/content/Run1.csv'\n",
        "data = pd.read_csv(file_path)\n",
        "\n",
        "\n",
        "data = data[['frame_start', 'frame_end', 'annotation_id', 'activity']]\n",
        "\n",
        "expanded_rows = []\n",
        "for _, row in data.iterrows():\n",
        "    for frame in range(row['frame_start'], row['frame_end'] + 1):\n",
        "        expanded_rows.append({\n",
        "            'frame': frame,\n",
        "            'annotation': row['annotation_id'],\n",
        "            'activity': row['activity']\n",
        "        })\n",
        "\n",
        "\n",
        "expanded_data = pd.DataFrame(expanded_rows)\n",
        "\n",
        "def update_annotations(row):\n",
        "    if pd.isna(row['annotation']) and pd.isna(row['activity']):\n",
        "        return 40  # Label as 40 for no annotation and no activity\n",
        "    elif row['activity'] == 'NA':\n",
        "        return 40\n",
        "    elif row['activity'] in activity_to_annotation:\n",
        "        return activity_to_annotation[row['activity']]\n",
        "    else:\n",
        "        return row['annotation'] if 0 <= row['annotation'] <= 33 else None\n",
        "\n",
        "expanded_data['annotation'] = expanded_data.apply(update_annotations, axis=1)\n",
        "expanded_data['activity'] = expanded_data['activity'].where(expanded_data['annotation'] != 40, '')\n",
        "\n",
        "expanded_data = expanded_data[['frame', 'annotation', 'activity']]\n",
        "\n",
        "updated_file_path = 'RUN1updated_file_with_annotations.csv'\n",
        "expanded_data.to_csv(updated_file_path, index=False)\n",
        "print(f\"Updated file saved to {updated_file_path}\")\n"
      ],
      "metadata": {
        "colab": {
          "base_uri": "https://localhost:8080/"
        },
        "id": "7K6HMPe-9yM_",
        "outputId": "46d5fd38-0d9e-4a5c-f113-8a98b925535e"
      },
      "execution_count": 14,
      "outputs": [
        {
          "output_type": "stream",
          "name": "stdout",
          "text": [
            "Updated file saved to RUN1updated_file_with_annotations.csv\n"
          ]
        }
      ]
    },
    {
      "cell_type": "code",
      "source": [
        "import torch\n",
        "import pandas as pd\n",
        "import pickle\n",
        "\n",
        "file_path = \"/content/run2_2018-05-29-14-33-44.kinect_color.pt\"\n",
        "data = torch.load(file_path)\n",
        "\n",
        "if isinstance(data, dict):\n",
        "    total_arrays = len(data)\n",
        "elif isinstance(data, list) or isinstance(data, tuple):\n",
        "    total_arrays = len(data)\n",
        "elif isinstance(data, torch.Tensor):\n",
        "    total_arrays = 1\n",
        "else:\n",
        "    total_arrays = 0\n",
        "\n",
        "print(f\"Total number of arrays in {file_path}: {total_arrays}\")\n",
        "\n",
        "with open('annotation_converter.pkl', 'rb') as f:\n",
        "    annotation_converter = pickle.load(f)\n",
        "\n",
        "activity_to_annotation = {activity: idx for idx, activity in enumerate(annotation_converter)}\n",
        "\n",
        "file_path = '/content/Run1.csv'\n",
        "data = pd.read_csv(file_path)\n",
        "\n",
        "data = data[['frame_start', 'frame_end', 'annotation_id', 'activity']]\n",
        "\n",
        "expanded_rows = []\n",
        "current_frame = 0\n",
        "for _, row in data.iterrows():\n",
        "    start_frame = row['frame_start']\n",
        "    end_frame = row['frame_end']\n",
        "\n",
        "    while current_frame < start_frame:\n",
        "        expanded_rows.append({\n",
        "            'frame': current_frame,\n",
        "            'annotation': 40,\n",
        "            'activity': ''\n",
        "        })\n",
        "        current_frame +=1\n",
        "\n",
        "    for frame in range(start_frame, end_frame + 1):\n",
        "        expanded_rows.append({\n",
        "            'frame': frame,\n",
        "            'annotation': row['annotation_id'],\n",
        "            'activity': row['activity']\n",
        "        })\n",
        "        current_frame += 1\n",
        "\n",
        "#Add extra frames up to no. of frames in the video\n",
        "while current_frame <= 19071:\n",
        "    expanded_rows.append({\n",
        "        'frame': current_frame,\n",
        "        'annotation': 40,\n",
        "        'activity': ''\n",
        "    })\n",
        "    current_frame += 1\n",
        "\n",
        "\n",
        "expanded_data = pd.DataFrame(expanded_rows)\n",
        "\n",
        "\n",
        "def update_annotations(row):\n",
        "    if pd.isna(row['annotation']) and pd.isna(row['activity']):\n",
        "        return 40  # Label as 40 for no annotation and no activity\n",
        "    elif row['activity'] == 'NA':\n",
        "        return 40\n",
        "    elif row['activity'] in activity_to_annotation:\n",
        "        return activity_to_annotation[row['activity']]\n",
        "    else:\n",
        "        return row['annotation'] if 0 <= row['annotation'] <= 33 else None\n",
        "\n",
        "expanded_data['annotation'] = expanded_data.apply(update_annotations, axis=1)\n",
        "expanded_data['activity'] = expanded_data['activity'].where(expanded_data['annotation'] != 40, '')\n",
        "\n",
        "expanded_data = expanded_data[['frame', 'annotation', 'activity']]\n",
        "\n",
        "updated_file_path = 'Run1updated_file_with_annotations.csv'\n",
        "expanded_data.to_csv(updated_file_path, index=False)\n",
        "print(f\"Updated file saved to {updated_file_path}\")\n"
      ],
      "metadata": {
        "colab": {
          "base_uri": "https://localhost:8080/"
        },
        "id": "ghahVwybMyQc",
        "outputId": "aad5d8bf-9782-433a-a5b9-5ca5267df36a"
      },
      "execution_count": 15,
      "outputs": [
        {
          "output_type": "stream",
          "name": "stderr",
          "text": [
            "<ipython-input-15-bc902a3f625b>:9: FutureWarning: You are using `torch.load` with `weights_only=False` (the current default value), which uses the default pickle module implicitly. It is possible to construct malicious pickle data which will execute arbitrary code during unpickling (See https://github.com/pytorch/pytorch/blob/main/SECURITY.md#untrusted-models for more details). In a future release, the default value for `weights_only` will be flipped to `True`. This limits the functions that could be executed during unpickling. Arbitrary objects will no longer be allowed to be loaded via this mode unless they are explicitly allowlisted by the user via `torch.serialization.add_safe_globals`. We recommend you start setting `weights_only=True` for any use case where you don't have full control of the loaded file. Please open an issue on GitHub for any issues related to this experimental feature.\n",
            "  data = torch.load(file_path)\n"
          ]
        },
        {
          "output_type": "stream",
          "name": "stdout",
          "text": [
            "Total number of arrays in /content/run2_2018-05-29-14-33-44.kinect_color.pt: 21437\n",
            "Updated file saved to Run1updated_file_with_annotations.csv\n"
          ]
        }
      ]
    },
    {
      "cell_type": "code",
      "source": [
        "import pandas as pd\n",
        "\n",
        "def process_csv(file_path):\n",
        "    try:\n",
        "        df = pd.read_csv(file_path)\n",
        "    except FileNotFoundError:\n",
        "        print(f\"Error: File not found at {file_path}\")\n",
        "        return\n",
        "\n",
        "    # Fill blank cells in 'annotation' column with 40\n",
        "    df['annotation'] = df['annotation'].fillna(40)\n",
        "\n",
        "    # Convert all other data to integers, handling errors\n",
        "    for col in df.columns:\n",
        "      if col != 'activity':\n",
        "        try:\n",
        "            df[col] = df[col].astype(int)\n",
        "        except ValueError as e:\n",
        "            print(f\"Error converting column '{col}' to integer: {e}\")\n",
        "            # Attempt to convert to integer after removing decimal part\n",
        "            df[col] = df[col].astype(str).str.split('.').str[0].astype(int, errors='ignore')\n",
        "\n",
        "\n",
        "    df.to_csv(file_path, index=False)\n",
        "    print(f\"File '{file_path}' processed and saved successfully.\")\n",
        "\n",
        "\n",
        "file_path = \"/content/Run1updated_file_with_annotations.csv\"\n",
        "process_csv(file_path)\n"
      ],
      "metadata": {
        "colab": {
          "base_uri": "https://localhost:8080/"
        },
        "id": "56TFugX5OtfB",
        "outputId": "26096f85-cb93-4a44-cd41-b0ecb097cc50"
      },
      "execution_count": 16,
      "outputs": [
        {
          "output_type": "stream",
          "name": "stdout",
          "text": [
            "File '/content/Run1updated_file_with_annotations.csv' processed and saved successfully.\n"
          ]
        }
      ]
    },
    {
      "cell_type": "markdown",
      "source": [
        "# **Model Training with more data** - LSTM"
      ],
      "metadata": {
        "id": "2ExSRuvUQI-q"
      }
    },
    {
      "cell_type": "code",
      "source": [
        "import torch\n",
        "import numpy as np\n",
        "from torch.utils.data import Dataset, DataLoader\n",
        "import pandas as pd\n",
        "from sklearn.preprocessing import LabelEncoder\n",
        "import matplotlib.pyplot as plt\n",
        "import glob\n",
        "\n",
        "\n",
        "tensor_data_paths = glob.glob(\"/content/tensors/*.pt\")\n",
        "annotations_paths = glob.glob(\"/content/data/*.csv\")\n",
        "\n",
        "\n",
        "tensor_data_paths.sort()\n",
        "annotations_paths.sort()\n",
        "\n",
        "\n",
        "tensor_annotation_mapping = {tensor_data_paths[i]: annotations_paths[i] for i in range(len(tensor_data_paths))}\n",
        "\n",
        "all_tensor_data = []\n",
        "all_annotations = []\n",
        "\n",
        "\n",
        "for tensor_path, annotation_path in zip(tensor_data_paths, annotations_paths):\n",
        "\n",
        "    tensor_data = torch.load(tensor_path, weights_only=False)\n",
        "    if isinstance(tensor_data, list):\n",
        "        tensor_data = torch.tensor(tensor_data, dtype=torch.float32)\n",
        "    tensor_data_indices = torch.argmax(tensor_data, dim=1)  # Convert class probabilities to indices\n",
        "    all_tensor_data.append(tensor_data_indices)\n",
        "\n",
        "    # Load annotations\n",
        "    annotations_df = pd.read_csv(annotation_path, skiprows=1)  # Skip header row\n",
        "    #annotations_df = annotations_df.replace('NA', -1)  # Replace missing values with -1\n",
        "    annotations = annotations_df.iloc[:, -1].values\n",
        "    all_annotations.append(annotations)\n",
        "\n",
        "all_tensor_data = torch.cat(all_tensor_data, dim=0)  # Concatenate all tensor data\n",
        "all_annotations = np.concatenate(all_annotations, axis=0)  # Concatenate all annotations\n",
        "\n",
        "if not np.issubdtype(all_annotations.dtype, np.number):\n",
        "    label_encoder = LabelEncoder()\n",
        "    all_annotations_numeric = label_encoder.fit_transform(all_annotations)\n",
        "else:\n",
        "    all_annotations_numeric = all_annotations\n",
        "\n",
        "print(f\"Length of tensor data: {len(all_tensor_data)}\")\n",
        "print(f\"Length of annotations: {len(all_annotations_numeric)}\")\n",
        "\n",
        "\n",
        "class TemporalActivityDataset(Dataset):\n",
        "    def __init__(self, data, labels):\n",
        "        self.data = data\n",
        "        self.labels = labels\n",
        "\n",
        "    def __len__(self):\n",
        "        return len(self.data)\n",
        "\n",
        "    def __getitem__(self, idx):\n",
        "        return self.data[idx], self.labels[idx]\n",
        "\n",
        "dataset = TemporalActivityDataset(all_tensor_data, all_annotations_numeric)\n",
        "data_loader = DataLoader(dataset, batch_size=64, shuffle=True)\n",
        "\n",
        "class TemporalActivityModel(torch.nn.Module):\n",
        "    def __init__(self, input_dim, hidden_dim, output_dim):\n",
        "        super(TemporalActivityModel, self).__init__()\n",
        "        self.embedding = torch.nn.Embedding(input_dim, hidden_dim)  # Embedding layer for indices\n",
        "        self.lstm = torch.nn.LSTM(hidden_dim, hidden_dim, batch_first=True)\n",
        "        self.fc = torch.nn.Linear(hidden_dim, output_dim)\n",
        "\n",
        "    def forward(self, x):\n",
        "        embedded = self.embedding(x)  # Convert indices to embeddings\n",
        "        if embedded.dim() == 2:\n",
        "            embedded = embedded.unsqueeze(1)  # Add sequence dimension if missing (batch_size, 1, hidden_dim)\n",
        "        lstm_out, _ = self.lstm(embedded)\n",
        "        out = self.fc(lstm_out[:, -1, :])\n",
        "        return out\n",
        "\n",
        "input_dim = torch.max(all_tensor_data).item() + 1\n",
        "hidden_dim = 64\n",
        "output_dim = len(np.unique(all_annotations_numeric))\n",
        "model = TemporalActivityModel(input_dim, hidden_dim, output_dim)\n",
        "\n",
        "criterion = torch.nn.CrossEntropyLoss()\n",
        "optimizer = torch.optim.AdamW(model.parameters(), lr=0.001)\n",
        "\n",
        "num_epochs = 100\n",
        "train_losses = []\n",
        "\n",
        "for epoch in range(num_epochs):\n",
        "    model.train()\n",
        "    running_loss = 0.0\n",
        "    correct_predictions = 0\n",
        "    total_predictions = 0\n",
        "\n",
        "    for inputs, labels in data_loader:\n",
        "        inputs = inputs.long()\n",
        "        labels = labels.long()\n",
        "\n",
        "        optimizer.zero_grad()  # Zero the gradients\n",
        "        outputs = model(inputs)  # Forward pass\n",
        "\n",
        "        loss = criterion(outputs, labels)  # Loss calculation\n",
        "        loss.backward()  # Backward pass\n",
        "        optimizer.step()  # Optimize parameters\n",
        "\n",
        "        running_loss += loss.item()\n",
        "\n",
        "\n",
        "        _, predicted = torch.max(outputs, 1)\n",
        "        correct_predictions += (predicted == labels).sum().item()\n",
        "        total_predictions += labels.size(0)\n",
        "\n",
        "    avg_loss = running_loss / len(data_loader)\n",
        "    accuracy = (correct_predictions / total_predictions) * 100\n",
        "    train_losses.append(avg_loss)\n",
        "    print(f\"Epoch [{epoch+1}/{num_epochs}], Loss: {avg_loss:.4f}, Accuracy: {accuracy:.2f}%\")\n",
        "\n",
        "\n",
        "plt.plot(train_losses, label=\"Training Loss\")\n",
        "plt.xlabel(\"Epoch\")\n",
        "plt.ylabel(\"Loss\")\n",
        "plt.title(\"Training Loss Curve\")\n",
        "plt.legend()\n",
        "plt.grid(True)\n",
        "plt.show()"
      ],
      "metadata": {
        "colab": {
          "base_uri": "https://localhost:8080/",
          "height": 1000
        },
        "id": "MGIwTkkzRM_A",
        "outputId": "552811b3-5d6e-4012-f917-17f77e5ed016"
      },
      "execution_count": 21,
      "outputs": [
        {
          "output_type": "stream",
          "name": "stdout",
          "text": [
            "Length of tensor data: 40508\n",
            "Length of annotations: 40508\n",
            "Epoch [1/100], Loss: 1.2313, Accuracy: 60.95%\n",
            "Epoch [2/100], Loss: 0.9158, Accuracy: 64.38%\n",
            "Epoch [3/100], Loss: 0.8973, Accuracy: 64.39%\n",
            "Epoch [4/100], Loss: 0.8901, Accuracy: 64.37%\n",
            "Epoch [5/100], Loss: 0.8869, Accuracy: 64.41%\n",
            "Epoch [6/100], Loss: 0.8849, Accuracy: 64.35%\n",
            "Epoch [7/100], Loss: 0.8827, Accuracy: 64.40%\n",
            "Epoch [8/100], Loss: 0.8819, Accuracy: 64.40%\n",
            "Epoch [9/100], Loss: 0.8808, Accuracy: 64.40%\n",
            "Epoch [10/100], Loss: 0.8802, Accuracy: 64.41%\n",
            "Epoch [11/100], Loss: 0.8794, Accuracy: 64.42%\n",
            "Epoch [12/100], Loss: 0.8794, Accuracy: 64.42%\n",
            "Epoch [13/100], Loss: 0.8786, Accuracy: 64.44%\n",
            "Epoch [14/100], Loss: 0.8785, Accuracy: 64.31%\n",
            "Epoch [15/100], Loss: 0.8780, Accuracy: 64.40%\n",
            "Epoch [16/100], Loss: 0.8778, Accuracy: 64.44%\n",
            "Epoch [17/100], Loss: 0.8781, Accuracy: 64.42%\n",
            "Epoch [18/100], Loss: 0.8777, Accuracy: 64.36%\n",
            "Epoch [19/100], Loss: 0.8770, Accuracy: 64.44%\n",
            "Epoch [20/100], Loss: 0.8771, Accuracy: 64.45%\n",
            "Epoch [21/100], Loss: 0.8767, Accuracy: 64.43%\n",
            "Epoch [22/100], Loss: 0.8774, Accuracy: 64.41%\n",
            "Epoch [23/100], Loss: 0.8763, Accuracy: 64.43%\n",
            "Epoch [24/100], Loss: 0.8764, Accuracy: 64.44%\n",
            "Epoch [25/100], Loss: 0.8763, Accuracy: 64.45%\n",
            "Epoch [26/100], Loss: 0.8765, Accuracy: 64.45%\n",
            "Epoch [27/100], Loss: 0.8758, Accuracy: 64.44%\n",
            "Epoch [28/100], Loss: 0.8757, Accuracy: 64.42%\n",
            "Epoch [29/100], Loss: 0.8758, Accuracy: 64.44%\n",
            "Epoch [30/100], Loss: 0.8759, Accuracy: 64.42%\n",
            "Epoch [31/100], Loss: 0.8765, Accuracy: 64.34%\n",
            "Epoch [32/100], Loss: 0.8763, Accuracy: 64.44%\n",
            "Epoch [33/100], Loss: 0.8757, Accuracy: 64.45%\n",
            "Epoch [34/100], Loss: 0.8755, Accuracy: 64.43%\n",
            "Epoch [35/100], Loss: 0.8759, Accuracy: 64.43%\n",
            "Epoch [36/100], Loss: 0.8758, Accuracy: 64.42%\n",
            "Epoch [37/100], Loss: 0.8752, Accuracy: 64.43%\n",
            "Epoch [38/100], Loss: 0.8758, Accuracy: 64.42%\n",
            "Epoch [39/100], Loss: 0.8749, Accuracy: 64.40%\n",
            "Epoch [40/100], Loss: 0.8754, Accuracy: 64.41%\n",
            "Epoch [41/100], Loss: 0.8752, Accuracy: 64.47%\n",
            "Epoch [42/100], Loss: 0.8752, Accuracy: 64.42%\n",
            "Epoch [43/100], Loss: 0.8753, Accuracy: 64.45%\n",
            "Epoch [44/100], Loss: 0.8755, Accuracy: 64.43%\n",
            "Epoch [45/100], Loss: 0.8753, Accuracy: 64.44%\n",
            "Epoch [46/100], Loss: 0.8753, Accuracy: 64.45%\n",
            "Epoch [47/100], Loss: 0.8752, Accuracy: 64.43%\n",
            "Epoch [48/100], Loss: 0.8754, Accuracy: 64.42%\n",
            "Epoch [49/100], Loss: 0.8752, Accuracy: 64.42%\n",
            "Epoch [50/100], Loss: 0.8750, Accuracy: 64.46%\n",
            "Epoch [51/100], Loss: 0.8750, Accuracy: 64.43%\n",
            "Epoch [52/100], Loss: 0.8747, Accuracy: 64.44%\n",
            "Epoch [53/100], Loss: 0.8751, Accuracy: 64.44%\n",
            "Epoch [54/100], Loss: 0.8748, Accuracy: 64.42%\n",
            "Epoch [55/100], Loss: 0.8750, Accuracy: 64.44%\n",
            "Epoch [56/100], Loss: 0.8751, Accuracy: 64.44%\n",
            "Epoch [57/100], Loss: 0.8746, Accuracy: 64.42%\n",
            "Epoch [58/100], Loss: 0.8749, Accuracy: 64.43%\n",
            "Epoch [59/100], Loss: 0.8745, Accuracy: 64.42%\n",
            "Epoch [60/100], Loss: 0.8749, Accuracy: 64.44%\n",
            "Epoch [61/100], Loss: 0.8750, Accuracy: 64.45%\n",
            "Epoch [62/100], Loss: 0.8750, Accuracy: 64.43%\n",
            "Epoch [63/100], Loss: 0.8739, Accuracy: 64.46%\n",
            "Epoch [64/100], Loss: 0.8748, Accuracy: 64.41%\n",
            "Epoch [65/100], Loss: 0.8743, Accuracy: 64.41%\n",
            "Epoch [66/100], Loss: 0.8750, Accuracy: 64.44%\n",
            "Epoch [67/100], Loss: 0.8754, Accuracy: 64.42%\n",
            "Epoch [68/100], Loss: 0.8751, Accuracy: 64.45%\n",
            "Epoch [69/100], Loss: 0.8750, Accuracy: 64.44%\n",
            "Epoch [70/100], Loss: 0.8746, Accuracy: 64.44%\n",
            "Epoch [71/100], Loss: 0.8744, Accuracy: 64.45%\n",
            "Epoch [72/100], Loss: 0.8745, Accuracy: 64.43%\n",
            "Epoch [73/100], Loss: 0.8752, Accuracy: 64.45%\n",
            "Epoch [74/100], Loss: 0.8744, Accuracy: 64.45%\n",
            "Epoch [75/100], Loss: 0.8744, Accuracy: 64.44%\n",
            "Epoch [76/100], Loss: 0.8750, Accuracy: 64.43%\n",
            "Epoch [77/100], Loss: 0.8747, Accuracy: 64.47%\n",
            "Epoch [78/100], Loss: 0.8746, Accuracy: 64.45%\n",
            "Epoch [79/100], Loss: 0.8745, Accuracy: 64.46%\n",
            "Epoch [80/100], Loss: 0.8746, Accuracy: 64.42%\n",
            "Epoch [81/100], Loss: 0.8748, Accuracy: 64.43%\n",
            "Epoch [82/100], Loss: 0.8742, Accuracy: 64.47%\n",
            "Epoch [83/100], Loss: 0.8747, Accuracy: 64.44%\n",
            "Epoch [84/100], Loss: 0.8749, Accuracy: 64.46%\n",
            "Epoch [85/100], Loss: 0.8745, Accuracy: 64.44%\n",
            "Epoch [86/100], Loss: 0.8746, Accuracy: 64.45%\n",
            "Epoch [87/100], Loss: 0.8751, Accuracy: 64.43%\n",
            "Epoch [88/100], Loss: 0.8747, Accuracy: 64.44%\n",
            "Epoch [89/100], Loss: 0.8747, Accuracy: 64.43%\n",
            "Epoch [90/100], Loss: 0.8744, Accuracy: 64.41%\n",
            "Epoch [91/100], Loss: 0.8744, Accuracy: 64.47%\n",
            "Epoch [92/100], Loss: 0.8743, Accuracy: 64.45%\n",
            "Epoch [93/100], Loss: 0.8750, Accuracy: 64.42%\n",
            "Epoch [94/100], Loss: 0.8743, Accuracy: 64.44%\n",
            "Epoch [95/100], Loss: 0.8744, Accuracy: 64.45%\n",
            "Epoch [96/100], Loss: 0.8742, Accuracy: 64.46%\n",
            "Epoch [97/100], Loss: 0.8744, Accuracy: 64.45%\n",
            "Epoch [98/100], Loss: 0.8742, Accuracy: 64.43%\n",
            "Epoch [99/100], Loss: 0.8746, Accuracy: 64.45%\n",
            "Epoch [100/100], Loss: 0.8746, Accuracy: 64.44%\n"
          ]
        },
        {
          "output_type": "display_data",
          "data": {
            "text/plain": [
              "<Figure size 640x480 with 1 Axes>"
            ],
            "image/png": "[encoded data removed]"
          },
          "metadata": {}
        }
      ]
    },
    {
      "cell_type": "code",
      "source": [
        "import matplotlib.pyplot as plt\n",
        "\n",
        "plt.figure(figsize=(10, 5))\n",
        "plt.plot(train_losses, label='Training Loss')\n",
        "plt.xlabel('Epoch')\n",
        "plt.ylabel('Loss')\n",
        "plt.title('Training Loss Curve')\n",
        "plt.legend()\n",
        "plt.grid(True)\n",
        "plt.show()\n"
      ],
      "metadata": {
        "colab": {
          "base_uri": "https://localhost:8080/",
          "height": 487
        },
        "id": "rJ6Ebgg7W_7W",
        "outputId": "57293c9c-2abc-4714-eff8-4b6ec8172c82"
      },
      "execution_count": 19,
      "outputs": [
        {
          "output_type": "display_data",
          "data": {
            "text/plain": [
              "<Figure size 1000x500 with 1 Axes>"
            ],
            "image/png": "[encoded data removed]"
          },
          "metadata": {}
        }
      ]
    },
    {
      "cell_type": "code",
      "source": [],
      "metadata": {
        "id": "8d5kEtWwZeA-"
      },
      "execution_count": null,
      "outputs": []
    }
  ]
}